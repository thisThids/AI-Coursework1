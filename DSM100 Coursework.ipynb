{
 "cells": [
  {
   "cell_type": "markdown",
   "id": "df6cced7",
   "metadata": {},
   "source": [
    "# Background knowledge represented by Bayesian network\n",
    "\n",
    "I am travelling to the airport from Bangkok city centre (Siam square), the weather in Bangkok city is unpredictable as it can be raining, or it can be sunny all day. Only 60% of time that the weather will be a nice sunny day and it can be raining any times in Bangkok mostly about 40% of time. With different weather conditions, the bus can arrive at the bus stop late, on time, or early. And this will result to the time arriving at the airport. On a nice sunny day, the bus will tend to arrive at a bus stop on time or earlier than its actual schedule and I will get o the airport on time. Whereas, on a sunny day, there are more chance that the bus will arrive at the bus stop late and this will make me get to the airport late."
   ]
  },
  {
   "cell_type": "code",
   "execution_count": 1,
   "id": "b56e178a",
   "metadata": {},
   "outputs": [],
   "source": [
    "#Import libraries\n",
    "\n",
    "import numpy as np\n",
    "from pgmpy.factors.discrete import TabularCPD\n",
    "from pgmpy.models import BayesianModel"
   ]
  },
  {
   "cell_type": "markdown",
   "id": "8b0e7f04",
   "metadata": {},
   "source": [
    "### We define the network structure, named office_model, using BayesianModel"
   ]
  },
  {
   "cell_type": "code",
   "execution_count": 2,
   "id": "ce59d251",
   "metadata": {},
   "outputs": [
    {
     "name": "stderr",
     "output_type": "stream",
     "text": [
      "/opt/anaconda3/lib/python3.8/site-packages/pgmpy/models/BayesianModel.py:8: FutureWarning: BayesianModel has been renamed to BayesianNetwork. Please use BayesianNewtork class, BayesianModel will be removed in future.\n",
      "  warnings.warn(\n"
     ]
    }
   ],
   "source": [
    "transport_model = BayesianModel([('rainy day', 'bus'),\n",
    "                              ('sunny day', 'bus'),\n",
    "                              ('bus', 'arrive at airport')])"
   ]
  },
  {
   "cell_type": "markdown",
   "id": "84086d12",
   "metadata": {},
   "source": [
    "### TabularCPD defines the conditional probability distribution table (cpd table). We need these tables for each node. After defining them, we add them all to the model."
   ]
  },
  {
   "cell_type": "code",
   "execution_count": 3,
   "id": "a106a22b",
   "metadata": {},
   "outputs": [],
   "source": [
    "rainy_cpd = TabularCPD(\n",
    "    variable = 'rainy day',\n",
    "    variable_card = 2,   # cardinality\n",
    "    values = [[0.4], [0.6]])  # ['yes', 'no']"
   ]
  },
  {
   "cell_type": "code",
   "execution_count": 4,
   "id": "32649767",
   "metadata": {},
   "outputs": [],
   "source": [
    "sunny_cpd = TabularCPD(\n",
    "    variable = 'sunny day',\n",
    "    variable_card = 2,   # cardinality\n",
    "    values = [[0.7], [0.3]])  # ['yes', 'no']"
   ]
  },
  {
   "cell_type": "code",
   "execution_count": 5,
   "id": "25d4c45f",
   "metadata": {},
   "outputs": [],
   "source": [
    "arrive_at_airport_cpd = TabularCPD(\n",
    "    variable = 'arrive at airport',\n",
    "    variable_card = 2,\n",
    "    values = [[.7, .4, .2],\n",
    "              [.3, .6, .8]],\n",
    "    evidence = ['bus'],\n",
    "    evidence_card = [3])"
   ]
  },
  {
   "cell_type": "raw",
   "id": "8419e6dc",
   "metadata": {},
   "source": [
    "# I get an error message when not putting evidence_card to list\n",
    "#if you run the notebook and get an error when running the cell above\n",
    "# you may mark this cell as 'code' and markdown the cell above and run the notebook again\n",
    "\n",
    "arrive_at_airport_cpd = TabularCPD(\n",
    "    variable = 'arrive at airport',\n",
    "    variable_card = 2,\n",
    "    values = [[.95, .8, .5],\n",
    "              [.05, .2, .5]],\n",
    "    evidence = ['bus'],\n",
    "    evidence_card = 3)"
   ]
  },
  {
   "cell_type": "code",
   "execution_count": 6,
   "id": "d09d4d59",
   "metadata": {},
   "outputs": [],
   "source": [
    "bus_cpd = TabularCPD(\n",
    "    variable = 'bus',\n",
    "    variable_card = 3,\n",
    "    values = [[.3, .7, .3, .5],\n",
    "              [.5, .2, .4, .3],\n",
    "              [.2, .1, .3, .2],],\n",
    "    evidence = ['sunny day', 'rainy day'],\n",
    "    evidence_card = [2,2])"
   ]
  },
  {
   "cell_type": "code",
   "execution_count": 7,
   "id": "b82f110e",
   "metadata": {},
   "outputs": [],
   "source": [
    "transport_model.add_cpds(rainy_cpd, sunny_cpd, bus_cpd, arrive_at_airport_cpd)"
   ]
  },
  {
   "cell_type": "code",
   "execution_count": 8,
   "id": "e5f3e749",
   "metadata": {},
   "outputs": [
    {
     "data": {
      "text/plain": [
       "True"
      ]
     },
     "execution_count": 8,
     "metadata": {},
     "output_type": "execute_result"
    }
   ],
   "source": [
    "# Checking if the cpds are valid for the model\n",
    "transport_model.check_model()"
   ]
  },
  {
   "cell_type": "code",
   "execution_count": 9,
   "id": "bcb68e55",
   "metadata": {},
   "outputs": [
    {
     "data": {
      "text/plain": [
       "NodeView(('rainy day', 'bus', 'sunny day', 'arrive at airport'))"
      ]
     },
     "execution_count": 9,
     "metadata": {},
     "output_type": "execute_result"
    }
   ],
   "source": [
    "# Viewing nodes of the model\n",
    "transport_model.nodes()"
   ]
  },
  {
   "cell_type": "code",
   "execution_count": 10,
   "id": "72d44d60",
   "metadata": {},
   "outputs": [
    {
     "data": {
      "text/plain": [
       "[<TabularCPD representing P(rainy day:2) at 0x7fd5f0176fa0>,\n",
       " <TabularCPD representing P(sunny day:2) at 0x7fd5f0176b50>,\n",
       " <TabularCPD representing P(bus:3 | sunny day:2, rainy day:2) at 0x7fd5f0193940>,\n",
       " <TabularCPD representing P(arrive at airport:2 | bus:3) at 0x7fd5ea478af0>]"
      ]
     },
     "execution_count": 10,
     "metadata": {},
     "output_type": "execute_result"
    }
   ],
   "source": [
    "transport_model.get_cpds()"
   ]
  },
  {
   "cell_type": "code",
   "execution_count": 11,
   "id": "771d9775",
   "metadata": {},
   "outputs": [
    {
     "name": "stdout",
     "output_type": "stream",
     "text": [
      "Nodes:  ['rainy day', 'bus', 'sunny day', 'arrive at airport']\n",
      "Edges:  [('rainy day', 'bus'), ('bus', 'arrive at airport'), ('sunny day', 'bus')]\n"
     ]
    },
    {
     "data": {
      "text/plain": [
       "<bound method BayesianNetwork.get_cpds of <pgmpy.models.BayesianModel.BayesianModel object at 0x7fd5f0176670>>"
      ]
     },
     "execution_count": 11,
     "metadata": {},
     "output_type": "execute_result"
    }
   ],
   "source": [
    "print(\"Nodes: \", transport_model.nodes())\n",
    "print(\"Edges: \", transport_model.edges())\n",
    "transport_model.get_cpds"
   ]
  },
  {
   "cell_type": "code",
   "execution_count": 12,
   "id": "c970b21d",
   "metadata": {},
   "outputs": [
    {
     "data": {
      "text/plain": [
       "{'rainy day': {'arrive at airport', 'bus', 'rainy day'}}"
      ]
     },
     "execution_count": 12,
     "metadata": {},
     "output_type": "execute_result"
    }
   ],
   "source": [
    "transport_model.active_trail_nodes('rainy day')"
   ]
  },
  {
   "cell_type": "code",
   "execution_count": 13,
   "id": "8e0296f3",
   "metadata": {},
   "outputs": [
    {
     "data": {
      "text/plain": [
       "(rainy day ⟂ sunny day)"
      ]
     },
     "execution_count": 13,
     "metadata": {},
     "output_type": "execute_result"
    }
   ],
   "source": [
    "#Checking independcies of a node\n",
    "\n",
    "transport_model.local_independencies('rainy day')"
   ]
  },
  {
   "cell_type": "code",
   "execution_count": 14,
   "id": "c19eae44",
   "metadata": {},
   "outputs": [
    {
     "data": {
      "text/plain": [
       "(arrive at airport ⟂ sunny day, rainy day | bus)\n",
       "(arrive at airport ⟂ rainy day | sunny day, bus)\n",
       "(arrive at airport ⟂ sunny day | rainy day, bus)\n",
       "(sunny day ⟂ rainy day)\n",
       "(sunny day ⟂ arrive at airport | bus)\n",
       "(sunny day ⟂ arrive at airport | rainy day, bus)\n",
       "(rainy day ⟂ sunny day)\n",
       "(rainy day ⟂ arrive at airport | bus)\n",
       "(rainy day ⟂ arrive at airport | sunny day, bus)"
      ]
     },
     "execution_count": 14,
     "metadata": {},
     "output_type": "execute_result"
    }
   ],
   "source": [
    "transport_model.get_independencies()"
   ]
  },
  {
   "cell_type": "markdown",
   "id": "8482b607",
   "metadata": {},
   "source": [
    "### Part2: Querying Bayesian network"
   ]
  },
  {
   "cell_type": "code",
   "execution_count": 15,
   "id": "dba6a8c2",
   "metadata": {},
   "outputs": [],
   "source": [
    "from pgmpy.inference import VariableElimination"
   ]
  },
  {
   "cell_type": "code",
   "execution_count": 16,
   "id": "7028813a",
   "metadata": {},
   "outputs": [],
   "source": [
    "transport_infer = VariableElimination(transport_model)"
   ]
  },
  {
   "cell_type": "markdown",
   "id": "038a8a4f",
   "metadata": {},
   "source": [
    "### 1. Doing Inference using hard evidence"
   ]
  },
  {
   "cell_type": "code",
   "execution_count": 17,
   "id": "34dfab1f",
   "metadata": {},
   "outputs": [
    {
     "data": {
      "application/vnd.jupyter.widget-view+json": {
       "model_id": "321bb7d743ab4763a8e37c440b441365",
       "version_major": 2,
       "version_minor": 0
      },
      "text/plain": [
       "  0%|          | 0/1 [00:00<?, ?it/s]"
      ]
     },
     "metadata": {},
     "output_type": "display_data"
    },
    {
     "data": {
      "application/vnd.jupyter.widget-view+json": {
       "model_id": "d400a0a4b008477ba284a6872d4746cc",
       "version_major": 2,
       "version_minor": 0
      },
      "text/plain": [
       "  0%|          | 0/1 [00:00<?, ?it/s]"
      ]
     },
     "metadata": {},
     "output_type": "display_data"
    },
    {
     "name": "stdout",
     "output_type": "stream",
     "text": [
      "+--------+------------+\n",
      "| bus    |   phi(bus) |\n",
      "+========+============+\n",
      "| bus(0) |     0.3000 |\n",
      "+--------+------------+\n",
      "| bus(1) |     0.4700 |\n",
      "+--------+------------+\n",
      "| bus(2) |     0.2300 |\n",
      "+--------+------------+\n"
     ]
    },
    {
     "data": {
      "application/vnd.jupyter.widget-view+json": {
       "model_id": "5d496ca3fdd74513aa392bc77964eebe",
       "version_major": 2,
       "version_minor": 0
      },
      "text/plain": [
       "  0%|          | 0/1 [00:00<?, ?it/s]"
      ]
     },
     "metadata": {},
     "output_type": "display_data"
    },
    {
     "data": {
      "application/vnd.jupyter.widget-view+json": {
       "model_id": "7967b88913164286ab07fe340007189e",
       "version_major": 2,
       "version_minor": 0
      },
      "text/plain": [
       "  0%|          | 0/1 [00:00<?, ?it/s]"
      ]
     },
     "metadata": {},
     "output_type": "display_data"
    },
    {
     "name": "stdout",
     "output_type": "stream",
     "text": [
      "+--------+------------+\n",
      "| bus    |   phi(bus) |\n",
      "+========+============+\n",
      "| bus(0) |     0.6400 |\n",
      "+--------+------------+\n",
      "| bus(1) |     0.2300 |\n",
      "+--------+------------+\n",
      "| bus(2) |     0.1300 |\n",
      "+--------+------------+\n"
     ]
    },
    {
     "data": {
      "application/vnd.jupyter.widget-view+json": {
       "model_id": "0b2d01c32dee4b7186011218a98df0b8",
       "version_major": 2,
       "version_minor": 0
      },
      "text/plain": [
       "  0%|          | 0/1 [00:00<?, ?it/s]"
      ]
     },
     "metadata": {},
     "output_type": "display_data"
    },
    {
     "data": {
      "application/vnd.jupyter.widget-view+json": {
       "model_id": "b6f5b76b72c3423280248b6c0064c408",
       "version_major": 2,
       "version_minor": 0
      },
      "text/plain": [
       "  0%|          | 0/1 [00:00<?, ?it/s]"
      ]
     },
     "metadata": {},
     "output_type": "display_data"
    },
    {
     "name": "stdout",
     "output_type": "stream",
     "text": [
      "+--------+----------------------+------------------------------+\n",
      "| bus    | arrive at airport    |   phi(bus,arrive at airport) |\n",
      "+========+======================+==============================+\n",
      "| bus(0) | arrive at airport(0) |                       0.4480 |\n",
      "+--------+----------------------+------------------------------+\n",
      "| bus(0) | arrive at airport(1) |                       0.1920 |\n",
      "+--------+----------------------+------------------------------+\n",
      "| bus(1) | arrive at airport(0) |                       0.0920 |\n",
      "+--------+----------------------+------------------------------+\n",
      "| bus(1) | arrive at airport(1) |                       0.1380 |\n",
      "+--------+----------------------+------------------------------+\n",
      "| bus(2) | arrive at airport(0) |                       0.0260 |\n",
      "+--------+----------------------+------------------------------+\n",
      "| bus(2) | arrive at airport(1) |                       0.1040 |\n",
      "+--------+----------------------+------------------------------+\n"
     ]
    },
    {
     "data": {
      "application/vnd.jupyter.widget-view+json": {
       "model_id": "4a7e975d5f6f452f90b5baa31b43d387",
       "version_major": 2,
       "version_minor": 0
      },
      "text/plain": [
       "  0%|          | 0/1 [00:00<?, ?it/s]"
      ]
     },
     "metadata": {},
     "output_type": "display_data"
    },
    {
     "data": {
      "application/vnd.jupyter.widget-view+json": {
       "model_id": "cd8e063b3c484d41acfe7093b846bd6c",
       "version_major": 2,
       "version_minor": 0
      },
      "text/plain": [
       "  0%|          | 0/1 [00:00<?, ?it/s]"
      ]
     },
     "metadata": {},
     "output_type": "display_data"
    },
    {
     "name": "stdout",
     "output_type": "stream",
     "text": [
      "+--------+------------+\n",
      "| bus    |   phi(bus) |\n",
      "+========+============+\n",
      "| bus(0) |     0.3000 |\n",
      "+--------+------------+\n",
      "| bus(1) |     0.4700 |\n",
      "+--------+------------+\n",
      "| bus(2) |     0.2300 |\n",
      "+--------+------------+\n",
      "+----------------------+--------------------------+\n",
      "| arrive at airport    |   phi(arrive at airport) |\n",
      "+======================+==========================+\n",
      "| arrive at airport(0) |                   0.4440 |\n",
      "+----------------------+--------------------------+\n",
      "| arrive at airport(1) |                   0.5560 |\n",
      "+----------------------+--------------------------+\n"
     ]
    }
   ],
   "source": [
    "# Query 1: What is the probability of taking a bus, given the rainy day=no (0) \n",
    "\n",
    "q = transport_infer.query(variables=['bus'], evidence={'rainy day':0})\n",
    "print(q)\n",
    "\n",
    "# Additional query for the first query: What is the probability of taking a bus, given the rainy day=yes (1) \n",
    "\n",
    "q = transport_infer.query(variables=['bus'], evidence={'rainy day':1})\n",
    "print(q)\n",
    "\n",
    "# Query2: What is  the joint probability of taking bus and not getting to the airport late given that the rainy day=yes (1)\n",
    "q = transport_infer.query(variables=['bus', 'arrive at airport'], evidence={'rainy day':1})\n",
    "print(q)\n",
    "\n",
    "# Query3: What is the probabilities (not joint) of taking a bus bus and getting to the airport late given rainy day=no (0)\n",
    "q = transport_infer.query(variables=['bus', 'arrive at airport'], evidence={'rainy day':0}, joint=False)\n",
    "#print(q)\n",
    "for factor in q.values():\n",
    "    print(factor)"
   ]
  },
  {
   "cell_type": "code",
   "execution_count": 18,
   "id": "05eacd62",
   "metadata": {},
   "outputs": [
    {
     "data": {
      "application/vnd.jupyter.widget-view+json": {
       "model_id": "070c88290080434eaa1fb5429bfd57ad",
       "version_major": 2,
       "version_minor": 0
      },
      "text/plain": [
       "  0%|          | 0/1 [00:00<?, ?it/s]"
      ]
     },
     "metadata": {},
     "output_type": "display_data"
    },
    {
     "data": {
      "application/vnd.jupyter.widget-view+json": {
       "model_id": "94fd1d833cd14e00ad375af7b7168a96",
       "version_major": 2,
       "version_minor": 0
      },
      "text/plain": [
       "  0%|          | 0/1 [00:00<?, ?it/s]"
      ]
     },
     "metadata": {},
     "output_type": "display_data"
    },
    {
     "name": "stdout",
     "output_type": "stream",
     "text": [
      "{'bus': 1}\n"
     ]
    },
    {
     "data": {
      "application/vnd.jupyter.widget-view+json": {
       "model_id": "46cb0750bcfa40c88b096c953a9a5d8c",
       "version_major": 2,
       "version_minor": 0
      },
      "text/plain": [
       "  0%|          | 0/1 [00:00<?, ?it/s]"
      ]
     },
     "metadata": {},
     "output_type": "display_data"
    },
    {
     "data": {
      "application/vnd.jupyter.widget-view+json": {
       "model_id": "2a2f912c7f8e44bbbad1410d48d264a1",
       "version_major": 2,
       "version_minor": 0
      },
      "text/plain": [
       "  0%|          | 0/1 [00:00<?, ?it/s]"
      ]
     },
     "metadata": {},
     "output_type": "display_data"
    },
    {
     "name": "stdout",
     "output_type": "stream",
     "text": [
      "{'bus': 0, 'arrive at airport': 0}\n"
     ]
    }
   ],
   "source": [
    "# Computing the MAP of bus given rainy day=no.\n",
    "q = transport_infer.map_query(variables=['bus'], evidence={'rainy day':0})\n",
    "print(q)\n",
    "\n",
    "# Computing the MAP of bus and airport not late given rainy day=yes\n",
    "q = transport_infer.map_query(variables=['bus', 'arrive at airport'], evidence={'rainy day':1})\n",
    "print(q)"
   ]
  },
  {
   "cell_type": "markdown",
   "id": "bba7da8a",
   "metadata": {},
   "source": [
    "### 2.Inference using virtual evidence"
   ]
  },
  {
   "cell_type": "markdown",
   "id": "3665d4bf",
   "metadata": {},
   "source": [
    "Virtual evidence refers to Pearl’s (1988) idea of interpreting uncertain evidence on a set of events as an hard evidence on some virtual event that only depends on this set of events."
   ]
  },
  {
   "cell_type": "code",
   "execution_count": 19,
   "id": "6d10d835",
   "metadata": {},
   "outputs": [
    {
     "data": {
      "application/vnd.jupyter.widget-view+json": {
       "model_id": "091d43153362434ca1786ceade382f91",
       "version_major": 2,
       "version_minor": 0
      },
      "text/plain": [
       "  0%|          | 0/2 [00:00<?, ?it/s]"
      ]
     },
     "metadata": {},
     "output_type": "display_data"
    },
    {
     "data": {
      "application/vnd.jupyter.widget-view+json": {
       "model_id": "4439ffd7f0d640b6b724e2ccad32f6f4",
       "version_major": 2,
       "version_minor": 0
      },
      "text/plain": [
       "  0%|          | 0/2 [00:00<?, ?it/s]"
      ]
     },
     "metadata": {},
     "output_type": "display_data"
    },
    {
     "name": "stdout",
     "output_type": "stream",
     "text": [
      "+--------+------------+\n",
      "| bus    |   phi(bus) |\n",
      "+========+============+\n",
      "| bus(0) |     0.6226 |\n",
      "+--------+------------+\n",
      "| bus(1) |     0.2377 |\n",
      "+--------+------------+\n",
      "| bus(2) |     0.1396 |\n",
      "+--------+------------+\n"
     ]
    },
    {
     "data": {
      "application/vnd.jupyter.widget-view+json": {
       "model_id": "afdec2bd13bb4387a9f17d798ff58ef3",
       "version_major": 2,
       "version_minor": 0
      },
      "text/plain": [
       "  0%|          | 0/2 [00:00<?, ?it/s]"
      ]
     },
     "metadata": {},
     "output_type": "display_data"
    },
    {
     "data": {
      "application/vnd.jupyter.widget-view+json": {
       "model_id": "ee05bf27717e4a4a8b74edb7e25a0d34",
       "version_major": 2,
       "version_minor": 0
      },
      "text/plain": [
       "  0%|          | 0/2 [00:00<?, ?it/s]"
      ]
     },
     "metadata": {},
     "output_type": "display_data"
    },
    {
     "name": "stdout",
     "output_type": "stream",
     "text": [
      "+--------+------------+\n",
      "| bus    |   phi(bus) |\n",
      "+========+============+\n",
      "| bus(0) |     0.6734 |\n",
      "+--------+------------+\n",
      "| bus(1) |     0.2151 |\n",
      "+--------+------------+\n",
      "| bus(2) |     0.1115 |\n",
      "+--------+------------+\n"
     ]
    }
   ],
   "source": [
    "# Query with hard evidence rainy day = yes and virtual evidence airport not late = [0.45, 0.55]\n",
    "\n",
    "airport_not_late_virt_evidence = TabularCPD(variable='arrive at airport', variable_card=2, values=[[0.45], [0.55]])\n",
    "q = transport_infer.query(variables=['bus'], evidence={'rainy day':1}, virtual_evidence=[airport_not_late_virt_evidence])\n",
    "print(q)\n",
    "\n",
    "# Query with hard evidence rainy = yes and virtual evidences airport not late = [0.45, 0.55] and bus = [0.3, 0.7]\n",
    "\n",
    "airport_not_late_virt_evidence = TabularCPD(variable='arrive at airport', variable_card=2, values=[[0.45], [0.3]])\n",
    "q = transport_infer.query(variables=['bus'], evidence={'rainy day':1}, virtual_evidence=[airport_not_late_virt_evidence])\n",
    "print(q)"
   ]
  },
  {
   "cell_type": "code",
   "execution_count": 20,
   "id": "490240cd",
   "metadata": {},
   "outputs": [
    {
     "name": "stdout",
     "output_type": "stream",
     "text": [
      "+----------------------+--------+--------+--------+\n",
      "| bus                  | bus(0) | bus(1) | bus(2) |\n",
      "+----------------------+--------+--------+--------+\n",
      "| arrive at airport(0) | 0.7    | 0.4    | 0.2    |\n",
      "+----------------------+--------+--------+--------+\n",
      "| arrive at airport(1) | 0.3    | 0.6    | 0.8    |\n",
      "+----------------------+--------+--------+--------+\n"
     ]
    }
   ],
   "source": [
    "print(transport_model.get_cpds('arrive at airport'))"
   ]
  }
 ],
 "metadata": {
  "kernelspec": {
   "display_name": "Python 3",
   "language": "python",
   "name": "python3"
  },
  "language_info": {
   "codemirror_mode": {
    "name": "ipython",
    "version": 3
   },
   "file_extension": ".py",
   "mimetype": "text/x-python",
   "name": "python",
   "nbconvert_exporter": "python",
   "pygments_lexer": "ipython3",
   "version": "3.8.8"
  }
 },
 "nbformat": 4,
 "nbformat_minor": 5
}
